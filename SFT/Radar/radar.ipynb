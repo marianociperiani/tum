{
 "cells": [
  {
   "cell_type": "code",
   "execution_count": null,
   "metadata": {},
   "outputs": [],
   "source": [
    "import matplotlib.pyplot as plt\n",
    "import numpy as np\n",
    "import pathlib\n",
    "import logging\n",
    "import socket\n",
    "import pickle\n",
    "import time"
   ]
  },
  {
   "cell_type": "code",
   "execution_count": null,
   "metadata": {},
   "outputs": [],
   "source": [
    "%matplotlib qt\n",
    "\n",
    "LOCALHOST = \"10.0.0.241\"\n",
    "PORT = 8080\n",
    "server = socket.socket(socket.AF_INET, socket.SOCK_STREAM)\n",
    "server.bind((LOCALHOST, PORT))\n",
    "server.listen(1)\n",
    "print(\"Server started\")\n",
    " \n",
    "# here we are creating sub plots\n",
    "figure, ax = plt.subplots(figsize=(10, 8))\n",
    "plt. clf()\n",
    "#waits for a client\n",
    "while True:\n",
    "    print(\"Waiting for client request..\")\n",
    "    clientConnection,clientAddress = server.accept()\n",
    "    while clientConnection:\n",
    "        print(\"Connected client :\" , clientAddress)\n",
    "        msg = ''\n",
    "        data= []\n",
    "        #reads packets\n",
    "        while True:\n",
    "            packet= clientConnection.recv(4096)\n",
    "            if not packet:break\n",
    "            data.append(packet)\n",
    "        try: \n",
    "            msg =pickle.loads(b\"\".join(data))\n",
    "            print(msg)\n",
    "            print(msg.shape)\n",
    "            #applies fft and plot\n",
    "            r=abs((np.fft.fft((msg))))\n",
    "            #plt. clf()\n",
    "            plt.xlim([0, 512])\n",
    "            plt.plot(r)\n",
    "            plt.pause(0.000001) \n",
    "        except:\n",
    "            break\n",
    "clientConnection.close()\n",
    "\n",
    "\n"
   ]
  }
 ],
 "metadata": {
  "kernelspec": {
   "display_name": "myenv",
   "language": "python",
   "name": "myenv"
  },
  "language_info": {
   "codemirror_mode": {
    "name": "ipython",
    "version": 3
   },
   "file_extension": ".py",
   "mimetype": "text/x-python",
   "name": "python",
   "nbconvert_exporter": "python",
   "pygments_lexer": "ipython3",
   "version": "3.8.10"
  },
  "orig_nbformat": 4,
  "vscode": {
   "interpreter": {
    "hash": "c795c481e351e1eaafc45196b209423df9e84453cdf4df070b47ef92772ac659"
   }
  }
 },
 "nbformat": 4,
 "nbformat_minor": 2
}
