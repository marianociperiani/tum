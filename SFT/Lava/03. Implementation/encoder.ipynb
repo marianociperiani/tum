{
 "cells": [
  {
   "cell_type": "markdown",
   "metadata": {},
   "source": [
    "# ENCODER\n",
    "Encodes the inputs to spikes.\n",
    "\n"
   ]
  },
  {
   "cell_type": "code",
   "execution_count": 9,
   "metadata": {},
   "outputs": [],
   "source": [
    "#import modules\n",
    "\n",
    "import matplotlib.pyplot as plt\n",
    "import numpy as np\n",
    "import pathlib\n",
    "import run_sft\n",
    "import logging"
   ]
  },
  {
   "cell_type": "code",
   "execution_count": 10,
   "metadata": {},
   "outputs": [],
   "source": [
    "#lava modules\n",
    "from lava.magma.core.process.process import AbstractProcess\n",
    "from lava.magma.core.process.ports.ports import InPort, OutPort\n",
    "from lava.magma.core.model.py.model import PyLoihiProcessModel\n",
    "from lava.magma.core.decorator import implements, requires, tag\n",
    "from lava.magma.core.resources import CPU\n",
    "from lava.magma.core.model.py.type import LavaPyType\n",
    "from lava.magma.core.model.py.ports import PyInPort, PyOutPort\n",
    "from lava.magma.core.sync.protocols.loihi_protocol import LoihiProtocol\n",
    "from lava.magma.core.process.variable import Var"
   ]
  },
  {
   "cell_type": "code",
   "execution_count": 11,
   "metadata": {},
   "outputs": [],
   "source": [
    "# Two Processes: one with an OutPort, one with an InPort\n",
    "class P1(AbstractProcess):\n",
    "    def __init__(self, **kwargs):\n",
    "        super().__init__(**kwargs)\n",
    "        shape = kwargs.get(\"shape\", (10,))\n",
    "        bias = kwargs.pop(\"bias\", 0)\n",
    "        vth = kwargs.pop(\"vth\", 10)\n",
    "        \n",
    "        self.shape = shape\n",
    "        self.a_in = InPort(shape=shape)\n",
    "        self.s_out = OutPort(shape=shape)\n",
    "        self.w = Var(shape=shape, init=0)\n",
    "        self.u = Var(shape=shape, init=0)\n",
    "        self.v = Var(shape=shape, init=0)\n",
    "        self.aux = Var(shape=shape, init=0)\n",
    "        self.aux2 = Var(shape=shape, init=0)\n",
    "        self.aux3 = Var(shape=shape, init=0)\n",
    "        self.tspk = Var(shape=shape, init=0)\n",
    "        self.k = Var(shape=shape, init=0)\n",
    "        self.bias = Var(shape=shape, init=bias)\n",
    "        self.vth = Var(shape=(1,), init=vth)\n",
    "        self.s = Var(shape=(1,), init=0)\n",
    "class P2(AbstractProcess):\n",
    "    def __init__(self, **kwargs):\n",
    "        super().__init__(**kwargs)\n",
    "        shape = kwargs.get('shape', (10,))\n",
    "        self.inp1 = InPort(shape=shape)\n",
    "        self.aux3 = Var(shape=shape, init=0)\n",
    "\n"
   ]
  },
  {
   "cell_type": "code",
   "execution_count": 12,
   "metadata": {},
   "outputs": [],
   "source": [
    "#PyProcModel implementing P1\n",
    "@implements(proc=P1, protocol=LoihiProtocol)\n",
    "@requires(CPU)\n",
    "@tag('floating_pt')\n",
    "class PyLifModel1(PyLoihiProcessModel):\n",
    "    a_in: PyInPort = LavaPyType(PyInPort.VEC_DENSE, float)\n",
    "    s_out: PyOutPort = LavaPyType(PyOutPort.VEC_DENSE, float, precision=24)\n",
    "    w: np.ndarray = LavaPyType(np.ndarray, float)\n",
    "    u: np.ndarray = LavaPyType(np.ndarray, float)\n",
    "    v: np.ndarray = LavaPyType(np.ndarray, float)\n",
    "    aux: np.ndarray = LavaPyType(np.ndarray, float)\n",
    "    aux2: np.ndarray = LavaPyType(np.ndarray, float)\n",
    "    aux3: np.ndarray = LavaPyType(np.ndarray, float)\n",
    "    bias: np.ndarray = LavaPyType(np.ndarray, float)\n",
    "    tspk: np.ndarray = LavaPyType(np.ndarray, float)\n",
    "    k: np.ndarray = LavaPyType(np.ndarray, float)\n",
    "    vth: float = LavaPyType(float, float)\n",
    "    s: np.ndarray = LavaPyType(np.ndarray, float)\n",
    "    \n",
    "    def run_spk(self):\n",
    "        a_in_data=np.array([-10,10,5.5,0.3,3.5,-5,1.75,7.5,0.8,5])\n",
    "        self.u=a_in_data\n",
    "        if(self.time_step==1):\n",
    "            m=(1-num_steps_per_input)/(np.max(self.u)-np.min(self.u))\n",
    "            b=1-m*np.max(self.u)\n",
    "            '''\n",
    "            print(\"m : \",m)\n",
    "            print(\"b : \",b)\n",
    "            '''\n",
    "            for index2 in range(len(self.u)):\n",
    "                self.tspk[index2] =m*self.u[index2]+b\n",
    "                self.k[index2] = (vth/self.tspk[index2])-self.u[index2]\n",
    "            '''\n",
    "            print(self.tspk[:])\n",
    "            print(self.k[:])\n",
    "            '''\n",
    "        for index in range(len(self.v)):\n",
    "            if (self.aux[index]<1):\n",
    "                self.v[index] += self.u[index]+self.k[index]\n",
    "\n",
    "        s_out = self.v+0.00001 >= self.vth\n",
    "        self.aux[:]+=s_out\n",
    "        self.aux2[s_out]=self.time_step\n",
    "        self.v[s_out] = 0  # Reset voltage to 0\n",
    "        self.s_out.send(self.aux)\n",
    "\n",
    "        \n",
    "        if(self.time_step==num_steps_per_input):\n",
    "            print(\"\\nInputs: {}\".format(self.u))\n",
    "            print(\"\\nSpiking times: {}\".format(self.aux2))\n",
    "            plt.plot(self.aux2,a_in_data,'ro')\n",
    "            plt.xlabel(\"Time (steps)\")\n",
    "            plt.ylabel(\"Inputs (voltage)\")\n",
    "            plt.title('Spiking time')\n",
    "            plt.show()\n",
    "\n",
    "#PyProcModel implementing P2\n",
    "@implements(proc=P2, protocol=LoihiProtocol)\n",
    "@requires(CPU)\n",
    "@tag('floating_pt')\n",
    "class PyProcModelC(PyLoihiProcessModel):\n",
    "    inp1: PyInPort = LavaPyType(PyInPort.VEC_DENSE, float)\n",
    "    aux3: np.ndarray = LavaPyType(np.ndarray, float)\n",
    "\n",
    "    def run_spk(self):\n",
    "        in_data1 = self.inp1.recv()\n",
    "        #if(self.time_step==num_steps_per_input):\n",
    "\n",
    "            #print(\"\\nReceived input data for P1: {}\".format(in_data1))\n",
    "\n",
    "\n",
    "        #spikes=sim_handler.initialize_snn().simulate(in_data1)\n"
   ]
  },
  {
   "cell_type": "code",
   "execution_count": 13,
   "metadata": {},
   "outputs": [],
   "source": [
    "from lava.magma.core.run_configs import Loihi1SimCfg\n",
    "from lava.magma.core.run_conditions import RunSteps"
   ]
  },
  {
   "cell_type": "code",
   "execution_count": 14,
   "metadata": {},
   "outputs": [
    {
     "name": "stdout",
     "output_type": "stream",
     "text": [
      "\n",
      "Inputs: [-10.    10.     5.5    0.3    3.5   -5.     1.75   7.5    0.8    5.  ]\n",
      "\n",
      "Spiking times: [100.   1.  24.  50.  34.  76.  42.  14.  47.  26.]\n"
     ]
    },
    {
     "data": {
      "image/png": "[encoded data removed]",
      "text/plain": [
       "<Figure size 432x288 with 1 Axes>"
      ]
     },
     "metadata": {
      "needs_background": "light"
     },
     "output_type": "display_data"
    }
   ],
   "source": [
    "\n",
    "num_steps_per_input = 100\n",
    "vth=10\n",
    "step=1\n",
    "lif = P1(shape=(10,), bias=step,num_steps=num_steps_per_input, threshold=vth)\n",
    "lif2 = P2(shape=(10,))\n",
    "run_cfg = Loihi1SimCfg()\n",
    "\n",
    "lif.s_out.connect(lif2.inp1)\n",
    "\n",
    "\n",
    "lif.run(condition=RunSteps(num_steps=num_steps_per_input), run_cfg=run_cfg)"
   ]
  }
 ],
 "metadata": {
  "interpreter": {
   "hash": "c795c481e351e1eaafc45196b209423df9e84453cdf4df070b47ef92772ac659"
  },
  "kernelspec": {
   "display_name": "Python 3.8.10 ('myenv': venv)",
   "language": "python",
   "name": "python3"
  },
  "language_info": {
   "codemirror_mode": {
    "name": "ipython",
    "version": 3
   },
   "file_extension": ".py",
   "mimetype": "text/x-python",
   "name": "python",
   "nbconvert_exporter": "python",
   "pygments_lexer": "ipython3",
   "version": "3.8.10"
  },
  "orig_nbformat": 4
 },
 "nbformat": 4,
 "nbformat_minor": 2
}
