{
 "cells": [
  {
   "cell_type": "markdown",
   "metadata": {},
   "source": [
    "# **1-Layer-SNN**\n",
    "Encodes the data in a process, then sends it to a Dense Layer where all the processing layers will be contained."
   ]
  },
  {
   "cell_type": "markdown",
   "metadata": {},
   "source": [
    "### Importing modules"
   ]
  },
  {
   "cell_type": "code",
   "execution_count": 1,
   "metadata": {},
   "outputs": [],
   "source": [
    "#import modules\n",
    "\n",
    "import matplotlib.pyplot as plt\n",
    "import numpy as np\n",
    "import pathlib\n",
    "import logging"
   ]
  },
  {
   "cell_type": "code",
   "execution_count": 2,
   "metadata": {},
   "outputs": [
    {
     "name": "stderr",
     "output_type": "stream",
     "text": [
      "Intel NxSDK cannot be found. It will not be possible to run simulations with Loihi\n",
      "Intel NxSDK cannot be found. It will not be possible to run simulations with Loihi\n"
     ]
    }
   ],
   "source": [
    "#lava modules\n",
    "from lava.magma.core.process.process import AbstractProcess\n",
    "from lava.magma.core.model.sub.model import AbstractSubProcessModel\n",
    "from lava.magma.core.process.ports.ports import InPort, OutPort\n",
    "from lava.magma.core.model.py.model import PyLoihiProcessModel\n",
    "from lava.magma.core.decorator import implements, requires, tag\n",
    "from lava.magma.core.resources import CPU\n",
    "from lava.magma.core.model.py.type import LavaPyType\n",
    "from lava.magma.core.model.py.ports import PyInPort, PyOutPort\n",
    "from lava.magma.core.sync.protocols.loihi_protocol import LoihiProtocol\n",
    "from lava.magma.core.process.variable import Var\n",
    "from lava.proc.dense.process import Dense\n",
    "\n",
    "#spikingFT\n",
    "import run_sft\n",
    "import spikingFT.models.snn\n",
    "import spikingFT.utils.ft_utils"
   ]
  },
  {
   "cell_type": "markdown",
   "metadata": {},
   "source": [
    "### Creating processes\n",
    "Two Processes: one with an OutPort, one with an InPort and OutPort"
   ]
  },
  {
   "cell_type": "code",
   "execution_count": 3,
   "metadata": {},
   "outputs": [],
   "source": [
    "class P1(AbstractProcess):\n",
    "    def __init__(self, **kwargs):\n",
    "        super().__init__(**kwargs)\n",
    "        shape = kwargs.get(\"shape\", (32,))\n",
    "        bias = kwargs.pop(\"bias\", 0)\n",
    "        vth = kwargs.pop(\"vth\", 10)\n",
    "        \n",
    "        self.a_in = InPort(shape=shape)\n",
    "        self.s_out = OutPort(shape=shape)\n",
    "\n",
    "        self.u = Var(shape=shape, init=0)\n",
    "        self.v = Var(shape=shape, init=0)\n",
    "        self.spiked = Var(shape=shape, init=0)\n",
    "        self.acc_spikes = Var(shape=shape, init=0)\n",
    "        self.time_spiked = Var(shape=shape, init=0)\n",
    "        self.tspk = Var(shape=shape, init=0)\n",
    "        self.k = Var(shape=shape, init=0)\n",
    "        self.bias = Var(shape=shape, init=bias)\n",
    "        self.vth = Var(shape=(1,), init=vth)\n",
    " \n",
    "class P2(AbstractProcess):\n",
    "    def __init__(self, **kwargs):\n",
    "        super().__init__(**kwargs)\n",
    "        shape = kwargs.get('shape', (32,))\n",
    "\n",
    "        self.inp2 = InPort(shape=shape)\n",
    "        self.s_out2 = OutPort(shape=(30,))\n",
    "\n",
    "        self.time_spiked2 = Var(shape=(30,), init=0)\n",
    "        self.v_membrane = Var(shape=shape, init=0)\n",
    "        self.i_real = Var(shape=shape, init=0)\n",
    "        self.i_imag = Var(shape=shape, init=0)\n",
    "        self.v_real = Var(shape=shape, init=0)\n",
    "        self.v_imag = Var(shape=shape, init=0)\n",
    "        self.stacked = Var(shape=(30,), init=0)\n",
    "        self.stacked2 = Var(shape=(30,), init=0)\n",
    "        self.spiked2 = Var(shape=(30,), init=0)\n",
    "        self.acc_spikes2 =  Var(shape=(30,), init=0)\n"
   ]
  },
  {
   "cell_type": "markdown",
   "metadata": {},
   "source": [
    "### Creating processes models"
   ]
  },
  {
   "cell_type": "code",
   "execution_count": 4,
   "metadata": {},
   "outputs": [],
   "source": [
    "\n",
    "#PyProcModel implementing P1\n",
    "@implements(proc=P1, protocol=LoihiProtocol)\n",
    "@requires(CPU)\n",
    "@tag('floating_pt')\n",
    "class PyLifModel1(PyLoihiProcessModel):\n",
    "    a_in: PyInPort = LavaPyType(PyInPort.VEC_DENSE, float)\n",
    "    s_out: PyOutPort = LavaPyType(PyOutPort.VEC_DENSE, float, precision=24)\n",
    "    u: np.ndarray = LavaPyType(np.ndarray, float)\n",
    "    v: np.ndarray = LavaPyType(np.ndarray, float)\n",
    "    spiked: np.ndarray = LavaPyType(np.ndarray, float)\n",
    "    acc_spikes: np.ndarray = LavaPyType(np.ndarray, float)\n",
    "    time_spiked: np.ndarray = LavaPyType(np.ndarray, float)\n",
    "    bias: np.ndarray = LavaPyType(np.ndarray, float)\n",
    "    tspk: np.ndarray = LavaPyType(np.ndarray, float)\n",
    "    k: np.ndarray = LavaPyType(np.ndarray, float)\n",
    "    vth: float = LavaPyType(float, float)\n",
    "    \n",
    "    def run_spk(self):\n",
    "        #sine function (from 0 to 2*pi; 32 samples)\n",
    "        nsamples=32\n",
    "        x = np.linspace(0, 2*np.pi, nsamples)\n",
    "        plt.plot(x, np.sin(x))\n",
    "\n",
    "\n",
    "        plt.xlabel('Angle [rad]')\n",
    "        plt.ylabel('sin(x)')\n",
    "        plt.axis('tight')\n",
    "        plt.show()\n",
    "        a_in_data=np.sin(x)\n",
    "        self.u=a_in_data\n",
    "\n",
    "        #Calculates the slope\n",
    "        if(self.time_step==1):\n",
    "            m=(1-num_steps_per_input)/(np.max(self.u)-np.min(self.u))\n",
    "            b=1-m*np.max(self.u)\n",
    "\n",
    "            for index2 in range(len(self.u)):\n",
    "                self.tspk[index2] =m*self.u[index2]+b\n",
    "                self.k[index2] = (vth/self.tspk[index2])-self.u[index2]\n",
    "\n",
    "        #Keeps adding up until the spiked is produced.\n",
    "        for index in range(len(self.v)):\n",
    "            if (self.acc_spikes[index]<1):\n",
    "                self.v[index] += self.u[index]+self.k[index]\n",
    "\n",
    "        # Check if the threshold is reached.\n",
    "        s_out = self.v>= self.vth\n",
    "        self.spiked[:]=s_out\n",
    "\n",
    "        #Variable to save spikes (to keep the voltage = 0 after neuron spiked)\n",
    "        self.acc_spikes+=self.spiked\n",
    "        \n",
    "        #Saves time at the spike is produced.\n",
    "        self.time_spiked[s_out]=self.time_step\n",
    "\n",
    "        # Reset voltage to 0 (Refactory period).\n",
    "        self.v[s_out] = 0 \n",
    "\n",
    "        # Sends spike.\n",
    "        self.s_out.send(self.spiked)\n",
    "\n",
    "\n",
    "#PyProcModel implementing P2\n",
    "@implements(proc=P2, protocol=LoihiProtocol)\n",
    "@requires(CPU)\n",
    "@tag('floating_pt')\n",
    "class PyProcModelC(PyLoihiProcessModel):\n",
    "    inp2: PyInPort = LavaPyType(PyInPort.VEC_DENSE, float)\n",
    "    s_out2: PyOutPort = LavaPyType(PyOutPort.VEC_DENSE, float, precision=24)\n",
    "    time_spiked2: np.ndarray = LavaPyType(np.ndarray, float)\n",
    "    v_membrane: np.ndarray = LavaPyType(np.ndarray, float)\n",
    "    i_real: np.ndarray = LavaPyType(np.ndarray, float)\n",
    "    i_imag: np.ndarray = LavaPyType(np.ndarray, float)\n",
    "    v_real: np.ndarray = LavaPyType(np.ndarray, float)\n",
    "    v_imag: np.ndarray = LavaPyType(np.ndarray, float)\n",
    "    stacked2: np.ndarray = LavaPyType(np.ndarray, float)\n",
    "    stacked: np.ndarray = LavaPyType(np.ndarray, float)\n",
    "    acc_spikes2: np.ndarray = LavaPyType(np.ndarray, float)\n",
    "    spiked2: np.ndarray = LavaPyType(np.ndarray, float)\n",
    "    \n",
    "    def run_spk(self):\n",
    "        in_data1 = self.inp2.recv()\n",
    "        sim_time=num_steps_per_input\n",
    "        nsamples=32\n",
    "        \n",
    "        #Getting weight arrays\n",
    "        re_weights, im_weights = spikingFT.utils.ft_utils.dft_connection_matrix(\n",
    "            nsamples,\n",
    "            \"numpy\"\n",
    "            )\n",
    "\n",
    "        k_real = np.dot(re_weights, in_data1.transpose())\n",
    "        k_imag = np.dot(im_weights, in_data1.transpose())\n",
    "\n",
    "        self.i_real+=k_real\n",
    "        self.i_imag+=k_imag\n",
    "\n",
    "        #Getting weight arrays  \n",
    "        self.v_real+=self.i_real\n",
    "        self.v_imag+=self.i_imag\n",
    "\n",
    "        #Simulation time reaches Ts\n",
    "        if(self.time_step==num_steps_per_input):\n",
    "\n",
    "            #Getting rid of offset and negative spectrum.\n",
    "            sft_real = self.v_real[1:int(nsamples/2)]\n",
    "            sft_imag = self.v_imag[1:int(nsamples/2)]\n",
    "\n",
    "            # Max possible voltage during charging stage is the zero-mode intensity\n",
    "            # for a wave containing a flat x_max divided by two.\n",
    "            self.v_threshold =np.sum(re_weights[0,:]) * num_steps_per_input / 4\n",
    "\n",
    "            #Calculating current to add up at each time step.\n",
    "            i_spiking=2*self.v_threshold/num_steps_per_input\n",
    "            \n",
    "            self.stacked=np.hstack([sft_real, sft_imag])\n",
    "            self.stacked2=np.hstack([sft_real, sft_imag])\n",
    "\n",
    "\n",
    "\n",
    "            #Until simulation time reaches 2*Ts\n",
    "            while(sim_time<=2*num_steps_per_input):\n",
    "\n",
    "                #Keeps adding up until the spiked is produced.\n",
    "                for index5 in range(len(self.stacked)):\n",
    "                    if (self.acc_spikes2[index5]<1):\n",
    "                        self.stacked[index5] += i_spiking\n",
    "\n",
    "                # Check if the threshold is reached.\n",
    "                s_out2 = self.stacked>= self.v_threshold\n",
    "\n",
    "                self.spiked2[:]=s_out2\n",
    "\n",
    "                #Variable to save spikes (to keep the voltage = 0 after neuron spiked).\n",
    "                self.acc_spikes2+=self.spiked2\n",
    "                \n",
    "                # Reset voltage to 0 (Refactory period).\n",
    "                self.stacked[s_out2] = 0 \n",
    "\n",
    "                #Time step at which the threshold is reached by each neuron.\n",
    "                self.time_spiked2[s_out2]=sim_time\n",
    "\n",
    "                sim_time+=1\n",
    "\n",
    "                # Sends spike.\n",
    "                self.s_out2.send(self.stacked)\n",
    "\n",
    "                #Plotting.\n",
    "                if(sim_time==2*num_steps_per_input):\n",
    "                    print(\"\\nInputs: \\n{}\\n\".format(self.stacked2))\n",
    "                    print(\"\\nSpiking times: \\n{}\\n\".format(self.time_spiked2))\n",
    "                    plt.plot(self.time_spiked2,self.stacked2,'ro')\n",
    "                    plt.xlabel(\"Time (steps)\")\n",
    "                    plt.ylabel(\"Inputs (voltage)\")\n",
    "                    plt.title('Spiking time')\n",
    "                    plt.show()\n",
    "\n"
   ]
  },
  {
   "cell_type": "markdown",
   "metadata": {},
   "source": [
    "### Containing process\n",
    "It will be where all the layer-processes will be contained"
   ]
  },
  {
   "cell_type": "code",
   "execution_count": 5,
   "metadata": {},
   "outputs": [],
   "source": [
    "class ContainingProcess(AbstractProcess):\n",
    "    def __init__(self, **kwargs):\n",
    "        super().__init__(**kwargs)\n",
    "        shape = kwargs.get(\"shape\", (32, ))\n",
    "        self.s_in = InPort(shape=shape)\n",
    "        self.s_out = OutPort(shape=(30, ))"
   ]
  },
  {
   "cell_type": "markdown",
   "metadata": {},
   "source": [
    "### Containing process model"
   ]
  },
  {
   "cell_type": "code",
   "execution_count": 6,
   "metadata": {},
   "outputs": [],
   "source": [
    "@implements(proc=ContainingProcess, protocol=LoihiProtocol)\n",
    "class ContainingProcessModel(AbstractSubProcessModel):\n",
    "    def __init__(self, proc):\n",
    "        self.p1 = P1()\n",
    "        self.p2 = P2()\n",
    "\n",
    "        # connect in-port of the containing process to the in-port of the first process (inside containing process).\n",
    "        proc.in_ports.s_in.connect(self.p2.inp2)\n",
    "        # connect last-process output (inside containing process) to the output of the containing process.\n",
    "        self.p2.s_out2.connect(proc.out_ports.s_out)\n"
   ]
  },
  {
   "cell_type": "markdown",
   "metadata": {},
   "source": [
    "### Running the SNN"
   ]
  },
  {
   "cell_type": "code",
   "execution_count": 7,
   "metadata": {},
   "outputs": [],
   "source": [
    "from lava.magma.core.run_configs import Loihi1SimCfg\n",
    "from lava.magma.core.run_conditions import RunSteps\n"
   ]
  },
  {
   "cell_type": "code",
   "execution_count": 8,
   "metadata": {},
   "outputs": [
    {
     "name": "stdout",
     "output_type": "stream",
     "text": [
      "\n",
      "Inputs: \n",
      "[ 3.68236308e-02 -3.83191361e-03 -2.44603481e-03 -1.26259103e-03\n",
      " -3.29065628e-03 -3.30340179e-03 -2.25137484e-03 -3.51212346e-16\n",
      " -5.20913607e-03 -2.55597321e-03 -2.72704618e-03 -2.64365897e-03\n",
      " -3.05871378e-03 -2.02746139e-03 -2.21566885e-03 -3.74853160e-01\n",
      "  1.43548194e-02  9.04005863e-03  5.40579483e-03  5.17982239e-03\n",
      "  3.48236109e-03  3.71987068e-03  9.76562500e-04  3.29846499e-03\n",
      "  1.05532850e-03  2.43419905e-03  1.49954483e-03 -4.87118201e-05\n",
      "  2.09036787e-04  1.19478683e-03]\n",
      "\n",
      "\n",
      "Spiking times: \n",
      "[72. 75. 75. 75. 75. 75. 75. 75. 75. 75. 75. 75. 75. 75. 75. 98. 74. 74.\n",
      " 74. 74. 74. 74. 74. 74. 74. 74. 74. 75. 74. 74.]\n",
      "\n"
     ]
    },
    {
     "data": {
      "image/png": "[encoded data removed]",
      "text/plain": [
       "<Figure size 432x288 with 1 Axes>"
      ]
     },
     "metadata": {
      "needs_background": "light"
     },
     "output_type": "display_data"
    }
   ],
   "source": [
    "num_steps_per_input = 50 #steps\n",
    "vth=5\n",
    "step=1\n",
    "bias=0\n",
    "shape=(32,) #shape\n",
    "sender1 = P1(shape=shape, bias=bias,num_steps=num_steps_per_input, vth=vth)\n",
    "sender2 = ContainingProcess()\n",
    "\n",
    "# Connecting output port to an input port (of the containing process).\n",
    "sender1.s_out.connect(sender2.s_in)\n",
    "\n",
    "sender2.run(RunSteps(num_steps=num_steps_per_input), Loihi1SimCfg(select_tag='floating_pt', select_sub_proc_model=True))"
   ]
  }
 ],
 "metadata": {
  "kernelspec": {
   "display_name": "Python 3.8.10 ('myenv': venv)",
   "language": "python",
   "name": "python3"
  },
  "language_info": {
   "codemirror_mode": {
    "name": "ipython",
    "version": 3
   },
   "file_extension": ".py",
   "mimetype": "text/x-python",
   "name": "python",
   "nbconvert_exporter": "python",
   "pygments_lexer": "ipython3",
   "version": "3.8.10"
  },
  "orig_nbformat": 4,
  "vscode": {
   "interpreter": {
    "hash": "c795c481e351e1eaafc45196b209423df9e84453cdf4df070b47ef92772ac659"
   }
  }
 },
 "nbformat": 4,
 "nbformat_minor": 2
}
