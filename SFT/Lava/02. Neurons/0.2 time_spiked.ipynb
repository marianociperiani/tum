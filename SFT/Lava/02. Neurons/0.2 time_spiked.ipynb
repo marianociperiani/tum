{
 "cells": [
  {
   "cell_type": "code",
   "execution_count": 31,
   "id": "f96d86a4",
   "metadata": {},
   "outputs": [],
   "source": [
    "## Make a neuron spike just once and then maintain it on the refractary period."
   ]
  },
  {
   "cell_type": "markdown",
   "id": "4c4c7ae8-0ab8-4633-8f29-327dfd9d4603",
   "metadata": {},
   "source": [
    "## Create a LIF _Process_"
   ]
  },
  {
   "cell_type": "code",
   "execution_count": 32,
   "id": "8ca6da15-98f7-422e-a0c3-66e52f7fb881",
   "metadata": {},
   "outputs": [],
   "source": [
    "from lava.magma.core.process.process import AbstractProcess\n",
    "from lava.magma.core.process.variable import Var\n",
    "from lava.magma.core.process.ports.ports import InPort, OutPort\n",
    "\n",
    "class NEURON(AbstractProcess):\n",
    "    def __init__(self, **kwargs):\n",
    "        super().__init__(**kwargs)\n",
    "        shape = kwargs.get(\"shape\", (1,))\n",
    "        bias = kwargs.pop(\"bias\", 0)\n",
    "        vth = kwargs.pop(\"vth\", 10)\n",
    "\n",
    "        self.shape = shape\n",
    "        self.a_in = InPort(shape=shape)\n",
    "        self.s_out = OutPort(shape=shape)\n",
    "        self.w = Var(shape=shape, init=0)\n",
    "        self.u = Var(shape=shape, init=0)\n",
    "        self.v = Var(shape=shape, init=0)\n",
    "        self.aux = Var(shape=shape, init=0)\n",
    "        self.aux2 = Var(shape=shape, init=0)\n",
    "        self.bias = Var(shape=shape, init=bias)\n",
    "        self.vth = Var(shape=(1,), init=vth)\n",
    "\n",
    "class NEURON2(AbstractProcess):\n",
    "    def __init__(self, **kwargs):\n",
    "        super().__init__(**kwargs)\n",
    "        shape = kwargs.get(\"shape\", (1,))\n",
    "        bias = kwargs.pop(\"bias\", 0)\n",
    "        vth = kwargs.pop(\"vth\", 10)\n",
    "\n",
    "        self.shape = shape\n",
    "        self.a_in = InPort(shape=shape)\n",
    "        self.s_out = OutPort(shape=shape)\n",
    "        self.w = Var(shape=shape, init=0)\n",
    "        self.u = Var(shape=shape, init=0)\n",
    "        self.v = Var(shape=shape, init=0)\n",
    "        self.bias = Var(shape=shape, init=bias)\n",
    "        self.vth = Var(shape=(1,), init=vth)"
   ]
  },
  {
   "cell_type": "markdown",
   "id": "047a7044-8a34-4609-9899-ce5ef2ec7f41",
   "metadata": {},
   "source": [
    "## Create a Python _LeafProcessModel_ that implements the LIF _Process_"
   ]
  },
  {
   "cell_type": "markdown",
   "id": "01231b13-e66e-44cd-a962-8f0c929b6d0b",
   "metadata": {},
   "source": [
    "Now, we will create a Python _ProcessModel_, or _PyProcessModel_, that runs on a CPU compute resource and implements the LIF _Process_ behavior."
   ]
  },
  {
   "cell_type": "markdown",
   "id": "8187e4b4-e5b6-4f83-9680-fff487481e44",
   "metadata": {},
   "source": [
    "#### Setup"
   ]
  },
  {
   "cell_type": "markdown",
   "id": "c3ae00fe-eadb-4161-8921-880ffa483257",
   "metadata": {},
   "source": [
    "We begin by importing the required Lava classes.\n",
    "First, we setup our compute resources (CPU) and our _SyncProtocol_. A _SyncProtocol_ defines how and when parallel _Processes_ synchronize. Here we use the _LoihiProtoicol_ which defines the synchronization phases required for execution on the Loihi chip, but users may also specify a completely asynchronous protocol or define a custom _SyncProtocol_. The decorators imported will be necessary to specify the resource _Requirements_ and _SyncProtocol_ of our _ProcessModel_. "
   ]
  },
  {
   "cell_type": "code",
   "execution_count": 33,
   "id": "0d1dcb38-42ac-41bb-b79f-0bd812ace326",
   "metadata": {},
   "outputs": [],
   "source": [
    "import numpy as np\n",
    "from lava.magma.core.decorator import implements, requires\n",
    "from lava.magma.core.resources import CPU\n",
    "from lava.magma.core.sync.protocols.loihi_protocol import LoihiProtocol"
   ]
  },
  {
   "cell_type": "markdown",
   "id": "a9349f4e-e338-40be-aae9-682aa6f6969a",
   "metadata": {
    "tags": []
   },
   "source": [
    "Now we import the parent class from which our _ProcessModel_ inherits, as well as our required _Port_ and _Variable_ types. _PyLoihiProcessModel_ is the abstract class for a Python _ProcessModel_ that implements the _LoihiProtocol_. Our _ProcessModel_ needs _Ports_ and _Variables_ that mirror those the LIF _Process_. The in-ports and out-ports of a Python _ProcessModel_ have types _PyInPort_ and _PyOutPort_, respectively, while variables have type _LavaPyType_."
   ]
  },
  {
   "cell_type": "code",
   "execution_count": 34,
   "id": "4591f64f-1688-47d1-8c2f-fb68828fdd06",
   "metadata": {},
   "outputs": [],
   "source": [
    "from lava.magma.core.model.py.model import PyLoihiProcessModel\n",
    "from lava.magma.core.model.py.ports import PyInPort, PyOutPort\n",
    "from lava.magma.core.model.py.type import LavaPyType\n",
    "from lava.proc.lif.process import LIF"
   ]
  },
  {
   "cell_type": "markdown",
   "id": "4a5885a0-6b5e-499d-ad6f-73ad80b1a30b",
   "metadata": {},
   "source": [
    "#### Defining a _PyLifModel_ for LIF"
   ]
  },
  {
   "cell_type": "code",
   "execution_count": 35,
   "id": "326a0acf-172c-47e9-a0dd-53012e1e0cee",
   "metadata": {},
   "outputs": [],
   "source": [
    "import numpy as np\n",
    "from lava.magma.core.sync.protocols.loihi_protocol import LoihiProtocol\n",
    "from lava.magma.core.model.py.ports import PyInPort, PyOutPort\n",
    "from lava.magma.core.model.py.type import LavaPyType\n",
    "from lava.magma.core.resources import CPU\n",
    "from lava.magma.core.decorator import implements, requires, tag\n",
    "from lava.magma.core.model.py.model import PyLoihiProcessModel\n",
    "from lava.proc.lif.process import LIF\n",
    "\n",
    "\n",
    "@implements(proc=NEURON, protocol=LoihiProtocol)\n",
    "@requires(CPU)\n",
    "@tag('floating_pt')\n",
    "class PyLifModel1(PyLoihiProcessModel):\n",
    "    a_in: PyInPort = LavaPyType(PyInPort.VEC_DENSE, float)\n",
    "    s_out: PyOutPort = LavaPyType(PyOutPort.VEC_DENSE, bool, precision=1)\n",
    "    w: np.ndarray = LavaPyType(np.ndarray, float)\n",
    "    u: np.ndarray = LavaPyType(np.ndarray, float)\n",
    "    v: np.ndarray = LavaPyType(np.ndarray, float)\n",
    "    aux: np.ndarray = LavaPyType(np.ndarray, float)\n",
    "    aux2: np.ndarray = LavaPyType(np.ndarray, float)\n",
    "    bias: np.ndarray = LavaPyType(np.ndarray, float)\n",
    "    vth: float = LavaPyType(float, float)\n",
    "\n",
    "    def run_spk(self):\n",
    "        a_in_data=np.array([0,0.1,0.2,0.3,0.4,0.5,0.6,2,4,5])\n",
    "        self.u=a_in_data\n",
    "\n",
    "        for index in range(len(self.v)):\n",
    "            if (self.aux[index]<1):\n",
    "                if(self.time_step==1):\n",
    "                    self.v[index] = self.v[index] + self.u[index]*self.time_step+self.bias[index]\n",
    "                else:\n",
    "                    self.v[index] = self.v[index] + self.bias[index]\n",
    "        s_out = self.v >= self.vth\n",
    "        self.aux[:]+=s_out\n",
    "        self.aux2[s_out]=self.time_step\n",
    "        self.v[s_out] = 0  # Reset voltage to 0\n",
    "        self.s_out.send(s_out)\n",
    "\n",
    "\n",
    "\n",
    "\n",
    "@implements(proc=NEURON2, protocol=LoihiProtocol)\n",
    "@requires(CPU)\n",
    "@tag('floating_pt')\n",
    "class PyLifModel2(PyLoihiProcessModel):\n",
    "    a_in: PyInPort = LavaPyType(PyInPort.VEC_DENSE, float)\n",
    "    s_out: PyOutPort = LavaPyType(PyOutPort.VEC_DENSE, bool, precision=1)\n",
    "    w: np.ndarray = LavaPyType(np.ndarray, float)\n",
    "    u: np.ndarray = LavaPyType(np.ndarray, float)\n",
    "    v: np.ndarray = LavaPyType(np.ndarray, float)\n",
    "    bias: np.ndarray = LavaPyType(np.ndarray, float)\n",
    "    vth: float = LavaPyType(float, float)\n",
    "\n",
    "    def run_spk(self):\n",
    "        a_in_data2=self.a_in.recv()\n",
    "\n",
    "        self.w[:] += a_in_data2[:]\n",
    "\n",
    "\n",
    "        s_out = self.v >= self.vth\n",
    "        self.v[s_out] = 0  # Reset voltage to 0\n",
    "        self.s_out.send(s_out)"
   ]
  },
  {
   "cell_type": "markdown",
   "id": "8de1d176-a1a8-4fda-88de-e2a338a31c1e",
   "metadata": {},
   "source": [
    "#### Compile and run _PyLifModel_"
   ]
  },
  {
   "cell_type": "code",
   "execution_count": 36,
   "id": "89b13f22-1a45-402d-829e-e774098b6899",
   "metadata": {},
   "outputs": [
    {
     "name": "stdout",
     "output_type": "stream",
     "text": [
      "in 1 :  [0.  0.1 0.2 0.3 0.4 0.5 0.6 2.  4.  5. ]\n",
      "out 1:  [0. 0. 0. 0. 0. 0. 0. 0. 0. 0.]\n",
      "time:  [30. 30. 29. 29. 28. 28. 27. 20. 10.  5.]\n",
      "in 2 :  [1. 1. 1. 1. 1. 1. 1. 1. 1. 1.]\n"
     ]
    }
   ],
   "source": [
    "from lava.magma.core.run_configs import Loihi1SimCfg\n",
    "from lava.magma.core.run_conditions import RunSteps\n",
    "\n",
    "num_steps_per_input = 1000\n",
    "\n",
    "lif = NEURON(shape=(10,), bias=0.2,num_steps=num_steps_per_input, vth=6)\n",
    "lif2 = NEURON2(shape=(10,))\n",
    "run_cfg = Loihi1SimCfg()\n",
    "\n",
    "lif.s_out.connect(lif2.a_in)\n",
    "\n",
    "\n",
    "lif.run(condition=RunSteps(num_steps=num_steps_per_input), run_cfg=run_cfg)\n",
    "print(\"in 1 : \",lif.u.get())\n",
    "print(\"out 1: \",lif.v.get())\n",
    "print(\"time: \",lif.aux2.get())\n",
    "print(\"in 2 : \",lif2.w.get())\n"
   ]
  }
 ],
 "metadata": {
  "kernelspec": {
   "display_name": "Python 3 (ipykernel)",
   "language": "python",
   "name": "python3"
  },
  "language_info": {
   "codemirror_mode": {
    "name": "ipython",
    "version": 3
   },
   "file_extension": ".py",
   "mimetype": "text/x-python",
   "name": "python",
   "nbconvert_exporter": "python",
   "pygments_lexer": "ipython3",
   "version": "3.8.10"
  }
 },
 "nbformat": 4,
 "nbformat_minor": 5
}
