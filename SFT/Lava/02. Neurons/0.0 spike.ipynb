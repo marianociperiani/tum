{
 "cells": [
  {
   "cell_type": "markdown",
   "id": "0cefc3a7-8517-481e-8f24-cfee96a42f5a",
   "metadata": {},
   "source": [
    "in:  [0.  0.1 0.2 0.3 0.4 0.5 0.6 0.7 0.8 0.9]\n",
    "out:  [9. 8. 7. 6. 5. 4. 3. 2. 1. 0.]"
   ]
  },
  {
   "cell_type": "markdown",
   "id": "4c4c7ae8-0ab8-4633-8f29-327dfd9d4603",
   "metadata": {},
   "source": [
    "## Create a LIF _Process_"
   ]
  },
  {
   "cell_type": "markdown",
   "id": "1b9da8ae-5919-4c6a-845a-0d972e682e7d",
   "metadata": {},
   "source": [
    "First, we will define our LIF _Process_ exactly as it is defined in the `Magma` core library of Lava. (For more information on defining Lava Processes, see the [previous tutorial](./tutorial02_processes.ipynb).) Here the LIF neural _Process_ accepts activity from synaptic inputs via _InPort_ `a_in` and outputs spiking activity via _OutPort_ `s_out`."
   ]
  },
  {
   "cell_type": "code",
   "execution_count": 41,
   "id": "8ca6da15-98f7-422e-a0c3-66e52f7fb881",
   "metadata": {},
   "outputs": [],
   "source": [
    "from lava.magma.core.process.process import AbstractProcess\n",
    "from lava.magma.core.process.variable import Var\n",
    "from lava.magma.core.process.ports.ports import InPort, OutPort\n",
    "\n",
    "class NEURON(AbstractProcess):\n",
    "    def __init__(self, **kwargs):\n",
    "        super().__init__(**kwargs)\n",
    "        shape = kwargs.get(\"shape\", (1,))\n",
    "        bias = kwargs.pop(\"bias\", 0)\n",
    "        vth = kwargs.pop(\"vth\", 10)\n",
    "\n",
    "        self.shape = shape\n",
    "        self.a_in = InPort(shape=shape)\n",
    "        self.s_out = OutPort(shape=shape)\n",
    "        self.w = Var(shape=shape, init=0)\n",
    "        self.u = Var(shape=shape, init=0)\n",
    "        self.v = Var(shape=shape, init=0)\n",
    "        self.bias = Var(shape=shape, init=bias)\n",
    "        self.vth = Var(shape=(1,), init=vth)"
   ]
  },
  {
   "cell_type": "markdown",
   "id": "047a7044-8a34-4609-9899-ce5ef2ec7f41",
   "metadata": {},
   "source": [
    "## Create a Python _LeafProcessModel_ that implements the LIF _Process_"
   ]
  },
  {
   "cell_type": "markdown",
   "id": "01231b13-e66e-44cd-a962-8f0c929b6d0b",
   "metadata": {},
   "source": [
    "Now, we will create a Python _ProcessModel_, or _PyProcessModel_, that runs on a CPU compute resource and implements the LIF _Process_ behavior."
   ]
  },
  {
   "cell_type": "markdown",
   "id": "8187e4b4-e5b6-4f83-9680-fff487481e44",
   "metadata": {},
   "source": [
    "#### Setup"
   ]
  },
  {
   "cell_type": "markdown",
   "id": "c3ae00fe-eadb-4161-8921-880ffa483257",
   "metadata": {},
   "source": [
    "We begin by importing the required Lava classes.\n",
    "First, we setup our compute resources (CPU) and our _SyncProtocol_. A _SyncProtocol_ defines how and when parallel _Processes_ synchronize. Here we use the _LoihiProtoicol_ which defines the synchronization phases required for execution on the Loihi chip, but users may also specify a completely asynchronous protocol or define a custom _SyncProtocol_. The decorators imported will be necessary to specify the resource _Requirements_ and _SyncProtocol_ of our _ProcessModel_. "
   ]
  },
  {
   "cell_type": "code",
   "execution_count": 42,
   "id": "0d1dcb38-42ac-41bb-b79f-0bd812ace326",
   "metadata": {},
   "outputs": [],
   "source": [
    "import numpy as np\n",
    "from lava.magma.core.decorator import implements, requires\n",
    "from lava.magma.core.resources import CPU\n",
    "from lava.magma.core.sync.protocols.loihi_protocol import LoihiProtocol"
   ]
  },
  {
   "cell_type": "markdown",
   "id": "a9349f4e-e338-40be-aae9-682aa6f6969a",
   "metadata": {
    "tags": []
   },
   "source": [
    "Now we import the parent class from which our _ProcessModel_ inherits, as well as our required _Port_ and _Variable_ types. _PyLoihiProcessModel_ is the abstract class for a Python _ProcessModel_ that implements the _LoihiProtocol_. Our _ProcessModel_ needs _Ports_ and _Variables_ that mirror those the LIF _Process_. The in-ports and out-ports of a Python _ProcessModel_ have types _PyInPort_ and _PyOutPort_, respectively, while variables have type _LavaPyType_."
   ]
  },
  {
   "cell_type": "code",
   "execution_count": 43,
   "id": "4591f64f-1688-47d1-8c2f-fb68828fdd06",
   "metadata": {},
   "outputs": [],
   "source": [
    "from lava.magma.core.model.py.model import PyLoihiProcessModel\n",
    "from lava.magma.core.model.py.ports import PyInPort, PyOutPort\n",
    "from lava.magma.core.model.py.type import LavaPyType\n",
    "from lava.proc.lif.process import LIF"
   ]
  },
  {
   "cell_type": "markdown",
   "id": "4a5885a0-6b5e-499d-ad6f-73ad80b1a30b",
   "metadata": {},
   "source": [
    "#### Defining a _PyLifModel_ for LIF"
   ]
  },
  {
   "cell_type": "code",
   "execution_count": 44,
   "id": "326a0acf-172c-47e9-a0dd-53012e1e0cee",
   "metadata": {},
   "outputs": [],
   "source": [
    "import numpy as np\n",
    "from lava.magma.core.sync.protocols.loihi_protocol import LoihiProtocol\n",
    "from lava.magma.core.model.py.ports import PyInPort, PyOutPort\n",
    "from lava.magma.core.model.py.type import LavaPyType\n",
    "from lava.magma.core.resources import CPU\n",
    "from lava.magma.core.decorator import implements, requires, tag\n",
    "from lava.magma.core.model.py.model import PyLoihiProcessModel\n",
    "from lava.proc.lif.process import LIF\n",
    "\n",
    "\n",
    "@implements(proc=NEURON, protocol=LoihiProtocol)\n",
    "@requires(CPU)\n",
    "@tag('floating_pt')\n",
    "class PyLifModel1(PyLoihiProcessModel):\n",
    "    a_in: PyInPort = LavaPyType(PyInPort.VEC_DENSE, float)\n",
    "    s_out: PyOutPort = LavaPyType(PyOutPort.VEC_DENSE, bool, precision=1)\n",
    "    w: np.ndarray = LavaPyType(np.ndarray, float)\n",
    "    u: np.ndarray = LavaPyType(np.ndarray, float)\n",
    "    v: np.ndarray = LavaPyType(np.ndarray, float)\n",
    "    bias: np.ndarray = LavaPyType(np.ndarray, float)\n",
    "    vth: float = LavaPyType(float, float)\n",
    "\n",
    "    def run_spk(self):\n",
    "        a_in_data=np.array([1,4,7,9])\n",
    "        self.u += a_in_data\n",
    "        self.v[:] = self.u[:]+self.bias\n",
    "        s_out = self.v >= self.vth\n",
    "        self.v[s_out] = 0  # Reset voltage to 0\n",
    "        self.s_out.send(s_out)"
   ]
  },
  {
   "cell_type": "markdown",
   "id": "8de1d176-a1a8-4fda-88de-e2a338a31c1e",
   "metadata": {},
   "source": [
    "#### Compile and run _PyLifModel_"
   ]
  },
  {
   "cell_type": "code",
   "execution_count": 45,
   "id": "89b13f22-1a45-402d-829e-e774098b6899",
   "metadata": {},
   "outputs": [
    {
     "name": "stdout",
     "output_type": "stream",
     "text": [
      "out:  [2. 5. 8. 0.]\n"
     ]
    }
   ],
   "source": [
    "from lava.magma.core.run_configs import Loihi1SimCfg\n",
    "from lava.magma.core.run_conditions import RunSteps\n",
    "\n",
    "lif = NEURON(shape=(4,), bias=1, vth=10)\n",
    "\n",
    "run_cfg = Loihi1SimCfg()\n",
    "\n",
    "lif.run(condition=RunSteps(num_steps=1), run_cfg=run_cfg)\n",
    "print(\"out: \",lif.v.get())\n"
   ]
  }
 ],
 "metadata": {
  "kernelspec": {
   "display_name": "Python 3 (ipykernel)",
   "language": "python",
   "name": "python3"
  },
  "language_info": {
   "codemirror_mode": {
    "name": "ipython",
    "version": 3
   },
   "file_extension": ".py",
   "mimetype": "text/x-python",
   "name": "python",
   "nbconvert_exporter": "python",
   "pygments_lexer": "ipython3",
   "version": "3.8.10"
  }
 },
 "nbformat": 4,
 "nbformat_minor": 5
}
