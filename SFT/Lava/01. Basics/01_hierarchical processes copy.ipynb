{
 "cells": [
  {
   "cell_type": "markdown",
   "id": "b588ab58",
   "metadata": {
    "pycharm": {
     "name": "#%% md\n"
    }
   },
   "source": [
    "# Multiple processes (hierarchy)\n",
    "\n",
    "_P0_ & _P1_ --> || --> _P2_ --> _P3_ --> || --> _P5_\n",
    "        "
   ]
  },
  {
   "cell_type": "code",
   "execution_count": 1,
   "id": "95e3930e",
   "metadata": {},
   "outputs": [],
   "source": [
    "from lava.magma.core.process.process import AbstractProcess\n",
    "from lava.magma.core.process.ports.ports import InPort, OutPort"
   ]
  },
  {
   "cell_type": "markdown",
   "id": "21b50134",
   "metadata": {},
   "source": [
    "As first step we define the _Processes_ with their respective _Ports_ _out_ and _inp_."
   ]
  },
  {
   "cell_type": "code",
   "execution_count": 2,
   "id": "62530802",
   "metadata": {},
   "outputs": [],
   "source": [
    "# Processes with an OutPort (senders).\n",
    "class P0(AbstractProcess):\n",
    "    def __init__(self, **kwargs):\n",
    "        super().__init__(**kwargs)\n",
    "        shape = kwargs.get('shape', (2,))\n",
    "        self.out0 = OutPort(shape=shape)\n",
    "\n",
    "class P1(AbstractProcess):\n",
    "    def __init__(self, **kwargs):\n",
    "        super().__init__(**kwargs)\n",
    "        shape = kwargs.get('shape', (2,))\n",
    "        self.out1 = OutPort(shape=shape)\n",
    "\n",
    "# Processes that will be part of a bigger process (hiercharchical processes).\n",
    "class P2(AbstractProcess):\n",
    "    def __init__(self, **kwargs):\n",
    "        super().__init__(**kwargs)\n",
    "        shape = kwargs.get('shape', (2,))\n",
    "        self.inp2 = InPort(shape=shape)\n",
    "        self.out2 = OutPort(shape=shape)\n",
    "\n",
    "class P3(AbstractProcess):\n",
    "    def __init__(self, **kwargs):\n",
    "        super().__init__(**kwargs)\n",
    "        shape = kwargs.get('shape', (2,))\n",
    "        self.inp3 = InPort(shape=shape)\n",
    "        self.out3 = OutPort(shape=shape)\n",
    "\n",
    "# Process with an Inport (receiver).\n",
    "class P5(AbstractProcess):\n",
    "    def __init__(self, **kwargs):\n",
    "        super().__init__(**kwargs)\n",
    "        shape = kwargs.get('shape', (2,))\n",
    "        self.inp5 = InPort(shape=shape)\n",
    "        self.out5 = OutPort(shape=shape)"
   ]
  },
  {
   "cell_type": "markdown",
   "id": "ee9d76c0",
   "metadata": {},
   "source": [
    "Each process requires a corresponding _ProcessModel_ which implements their _Ports_ and a RunConfig for sending and receiving data.\n",
    "\n",
    "In the _ProcessModels_ Python code should be exectued on a CPU. The input and output _Port_ should be able to receive/send a vector of integers and print the transferred data.\n",
    "\n",
    "So the _ProcessModel_ inherits form _AbstractPyProcessModel_ in order to execute Python code and the configured _ComputeResource_ is a CPU. A _LavaPyType_ is used for the _Ports_. The _LavaPyType_ specifies the expected data format for the _Port_. A dense vector of type integer is chosen with the parameters _PyOutPort.VEC_DENSE_ and _int_. The _Ports_ can be used to send and receive data by calling _send_ or _recv_. The sent and received data is afterwards printed out."
   ]
  },
  {
   "cell_type": "code",
   "execution_count": 3,
   "id": "ec29578e",
   "metadata": {},
   "outputs": [],
   "source": [
    "import numpy as np\n",
    "from lava.magma.core.model.py.model import PyLoihiProcessModel\n",
    "from lava.magma.core.decorator import implements, requires, tag\n",
    "from lava.magma.core.resources import CPU\n",
    "from lava.magma.core.model.py.type import LavaPyType\n",
    "from lava.magma.core.model.py.ports import PyInPort, PyOutPort\n",
    "from lava.magma.core.sync.protocols.loihi_protocol import LoihiProtocol"
   ]
  },
  {
   "cell_type": "code",
   "execution_count": 4,
   "id": "43b6d926",
   "metadata": {},
   "outputs": [],
   "source": [
    "#PyProcModel implementing P0\n",
    "@implements(proc=P0, protocol=LoihiProtocol)\n",
    "@requires(CPU)\n",
    "@tag('floating_pt')\n",
    "class PyProcModelA0(PyLoihiProcessModel):\n",
    "    out0: PyOutPort = LavaPyType(PyOutPort.VEC_DENSE, float)\n",
    "\n",
    "    def run_spk(self):\n",
    "        data = np.array([1.2, 1])\n",
    "        print(\"Sent output data of P0: {}\\n\".format(data))\n",
    "        self.out0.send(data)\n",
    "\n",
    "#PyProcModel implementing P1\n",
    "@implements(proc=P1, protocol=LoihiProtocol)\n",
    "@requires(CPU)\n",
    "@tag('floating_pt')\n",
    "class PyProcModelA(PyLoihiProcessModel):\n",
    "    out1: PyOutPort = LavaPyType(PyOutPort.VEC_DENSE, float)\n",
    "\n",
    "    def run_spk(self):\n",
    "        data = np.array([1, 2])\n",
    "        print(\"Sent output data of P1: {}\\n\".format(data))\n",
    "        self.out1.send(data)\n",
    "\n",
    "\n",
    "#PyProcModel implementing P2\n",
    "@implements(proc=P2, protocol=LoihiProtocol)\n",
    "@requires(CPU)\n",
    "@tag('floating_pt')\n",
    "class PyProcModelC(PyLoihiProcessModel):\n",
    "\n",
    "    inp2: PyInPort = LavaPyType(PyInPort.VEC_DENSE, float)\n",
    "    out2: PyOutPort = LavaPyType(PyOutPort.VEC_DENSE, float)\n",
    "    def run_spk(self):\n",
    "        in_data2 = self.inp2.recv()\n",
    "        print(\"P2 received: {}\\n\".format(in_data2))\n",
    "        out_data2=in_data2*2\n",
    "        print(\"Sent output data of P2: {}\\n\".format(out_data2))\n",
    "        self.out2.send(out_data2)\n",
    "\n",
    "#PyProcModel implementing P3\n",
    "@implements(proc=P3, protocol=LoihiProtocol)\n",
    "@requires(CPU)\n",
    "@tag('floating_pt')       \n",
    "class PyProcModelD(PyLoihiProcessModel):\n",
    "    inp3: PyInPort = LavaPyType(PyInPort.VEC_DENSE, float)\n",
    "    out3: PyOutPort = LavaPyType(PyOutPort.VEC_DENSE, float)\n",
    "    def run_spk(self):\n",
    "        in_data3 = self.inp3.recv()\n",
    "        print(\"Received input data for P3: {}\\n\".format(in_data3))\n",
    "        weight3 = np.array([2, 2])\n",
    "        out_data3=in_data3-weight3\n",
    "        print(\"Sent output data of P3: {}\\n\".format(out_data3))\n",
    "        self.out3.send(out_data3)\n",
    "\n",
    "#PyProcModel implementing P5\n",
    "@implements(proc=P5, protocol=LoihiProtocol)\n",
    "@requires(CPU)\n",
    "@tag('floating_pt')       \n",
    "class PyProcModelE(PyLoihiProcessModel):\n",
    "    inp5: PyInPort = LavaPyType(PyInPort.VEC_DENSE, float)\n",
    "    out5: PyOutPort = LavaPyType(PyOutPort.VEC_DENSE, float)\n",
    "    def run_spk(self):\n",
    "        in_data5 = self.inp5.recv()\n",
    "        print(\"P5 received: {}\\n\".format(in_data5))\n",
    "        self.out5.send(in_data5)"
   ]
  },
  {
   "cell_type": "markdown",
   "id": "b0124a4c",
   "metadata": {},
   "source": [
    "# Containing process & model\n",
    "A bigger process and its model is created, which encapsulates all the inside-steps (P2 & P3 in this case)"
   ]
  },
  {
   "cell_type": "code",
   "execution_count": 5,
   "id": "ca156177",
   "metadata": {},
   "outputs": [],
   "source": [
    "#Parent process.\n",
    "class Combo(AbstractProcess):\n",
    "    def __init__(self, **kwargs):\n",
    "        super().__init__(**kwargs)\n",
    "        shape = kwargs.get(\"shape\", (2, ))\n",
    "        self.s_in = InPort(shape=shape)\n",
    "        self.s_out = OutPort(shape=shape)\n"
   ]
  },
  {
   "cell_type": "code",
   "execution_count": 6,
   "id": "fa0bb1d5",
   "metadata": {},
   "outputs": [],
   "source": [
    "#Parent process model.\n",
    "import numpy as np\n",
    "from lava.magma.core.model.sub.model import AbstractSubProcessModel\n",
    "\n",
    "from lava.magma.core.sync.protocols.loihi_protocol import LoihiProtocol\n",
    "from lava.magma.core.decorator import implements\n",
    "\n",
    "@implements(proc=Combo, protocol=LoihiProtocol)\n",
    "class ComboModel(AbstractSubProcessModel):\n",
    "\n",
    "    def __init__(self, proc):\n",
    " \n",
    "        self.p2 = P2()\n",
    "        self.p3 = P3()\n",
    "\n",
    "\n",
    "        # connect Parent in port to child P2 in port\n",
    "        proc.in_ports.s_in.connect(self.p2.inp2)\n",
    "        # connect P2 Process to P3 Process\n",
    "        self.p2.out2.connect(self.p3.inp3)\n",
    "        # connect P3 Process to parent out port\n",
    "        self.p3.out3.connect(proc.out_ports.s_out)"
   ]
  },
  {
   "cell_type": "markdown",
   "id": "c09ee26f",
   "metadata": {},
   "source": [
    "Next the processes are instantiated and the output _Port_ _out_ from _Process_ _P1_ is connected with the input _Port_ _inp_ of _the_ _hierarchical process_. At the end, the _output_ of _the_ _hierarchical process_ is connected to _Process_ _P5_ "
   ]
  },
  {
   "cell_type": "code",
   "execution_count": 7,
   "id": "eb262e6f",
   "metadata": {},
   "outputs": [],
   "source": [
    "sender0 = P0()\n",
    "sender1 = P1()\n",
    "sender2 = Combo()\n",
    "sender5 = P5()\n",
    "# Connecting output port to an input port\n",
    "sender0.out0.connect(sender2.s_in)\n",
    "sender1.out1.connect(sender2.s_in)\n",
    "sender2.s_out.connect(sender5.inp5)"
   ]
  },
  {
   "cell_type": "markdown",
   "id": "f79c050b",
   "metadata": {},
   "source": [
    "Calling `run()` on either of these _Processes_ will first call the _Compiler_. During compilation the specified connection is setup by creating a channel between Processes. Now data can be transfered during execution as seen by the output print statements."
   ]
  },
  {
   "cell_type": "code",
   "execution_count": 8,
   "id": "63a574d0",
   "metadata": {},
   "outputs": [],
   "source": [
    "from lava.magma.core.run_configs import Loihi1SimCfg\n",
    "from lava.magma.core.run_conditions import RunSteps"
   ]
  },
  {
   "cell_type": "code",
   "execution_count": 9,
   "id": "8dd8e84b",
   "metadata": {
    "scrolled": true
   },
   "outputs": [
    {
     "name": "stdout",
     "output_type": "stream",
     "text": [
      "Sent output data of P1: [1 2]\n",
      "Sent output data of P0: [1.2 1. ]\n",
      "\n",
      "\n",
      "P2 received: [2.2 3. ]\n",
      "\n",
      "Sent output data of P2: [4.4 6. ]\n",
      "\n",
      "Received input data for P3: [4.4 6. ]\n",
      "\n",
      "Sent output data of P3: [2.4 4. ]\n",
      "\n",
      "P5 received: [2.4 4. ]\n",
      "\n"
     ]
    }
   ],
   "source": [
    "#sender2.run(RunSteps(num_steps=1), Loihi1SimCfg(select_tag='floating_pt', select_sub_proc_model=True))\n",
    "sender1.run(RunSteps(num_steps=1), Loihi1SimCfg())\n",
    "#sender1.stop()"
   ]
  },
  {
   "cell_type": "markdown",
   "id": "97782fd6",
   "metadata": {},
   "source": [
    "The instance `sender0` of P0 sent the data `[1 1]` and the instance `sender1` of P1 sent the data `[1 2]`via their _OutPort_ `out0` & `out1` respectively to the _InPort_ `s_in` of the instance sender2 `recv` of the hierarchical process, where the data is received. After all the inside steps, the output data flows through the _OutPort_ `s_out` to the _InPort_ `inp5` of P5, instanciated by `sender5`"
   ]
  }
 ],
 "metadata": {
  "interpreter": {
   "hash": "c176acc32fa0fd1875fb43a5787ae1fa2f2a5f96932d55fc5c8857aaa134fec0"
  },
  "kernelspec": {
   "display_name": "local-venv",
   "language": "python",
   "name": "python3"
  },
  "language_info": {
   "codemirror_mode": {
    "name": "ipython",
    "version": 3
   },
   "file_extension": ".py",
   "mimetype": "text/x-python",
   "name": "python",
   "nbconvert_exporter": "python",
   "pygments_lexer": "ipython3",
   "version": "3.8.10"
  }
 },
 "nbformat": 4,
 "nbformat_minor": 5
}
