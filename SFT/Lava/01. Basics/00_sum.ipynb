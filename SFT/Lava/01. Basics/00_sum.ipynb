{
 "cells": [
  {
   "cell_type": "markdown",
   "id": "b588ab58",
   "metadata": {
    "pycharm": {
     "name": "#%% md\n"
    }
   },
   "source": [
    "*Copyright (C) 2021 Intel Corporation*<br>\n",
    "*SPDX-License-Identifier: BSD-3-Clause*<br>\n",
    "*See: https://spdx.org/licenses/*\n",
    "\n",
    "---\n",
    "\n",
    "# Connect processes\n",
    "\n",
    "This tutorial gives an introduction in how to connect _Processes_ to build a network of asynchronously operating and interacting _Processes_.\n",
    "\n",
    "## Recommended tutorials before starting:\n",
    "\n",
    "- [Installing Lava](./tutorial01_installing_lava.ipynb \"Tutorial on Installing Lava\")\n",
    "- [Processes](./tutorial02_processes.ipynb \"Tutorial on Processes\")\n",
    "- [ProcessModel](./tutorial03_process_models.ipynb \"Tutorial on ProcessModels\")\n",
    "- [Execution](./tutorial04_execution.ipynb \"Tutorial on Executing Processes\")\n",
    "\n",
    "    \n",
    "## Building a network of _Processes_\n",
    "\n",
    "_Processes_ are the main building blocks of Lava. Each _Process_ can exercise different computations and usually depends on some input data and/or creates output data. Transfering I/O data between _Processes_ is a key element of Lava. A _Process_ can have various input and output _Ports_ which are then connected via channels to corresponding _Ports_ of another _Process_. This allows to build networks of asynchronously operating and interacting _Processes_.\n",
    "\n",
    "## Create a connection\n",
    "\n",
    "The objective is to connect _Process_ _P1_ with _Process_ _P2_. _P1_ has an output _Port_ _OutPort_ called _out_ and _P2_ has an input port _InPort_ called _inp_. Data from _P1_ provided to the _Port_ _out_ should be transfered to _P2_ and received from _Port_ _inp_.\n",
    "\n",
    "<img src=\"https://raw.githubusercontent.com/lava-nc/lava-nc.github.io/main/_static/images/tutorial06/fig01.png\" width=\"400\"  />\n"
   ]
  },
  {
   "cell_type": "code",
   "execution_count": 162,
   "id": "95e3930e",
   "metadata": {},
   "outputs": [],
   "source": [
    "from lava.magma.core.process.process import AbstractProcess\n",
    "from lava.magma.core.process.ports.ports import InPort, OutPort"
   ]
  },
  {
   "cell_type": "markdown",
   "id": "21b50134",
   "metadata": {},
   "source": [
    "As first step we define the _Processes_ _P1_ and _P2_ with their respective _Ports_ _out_ and _inp_."
   ]
  },
  {
   "cell_type": "code",
   "execution_count": 163,
   "id": "62530802",
   "metadata": {},
   "outputs": [],
   "source": [
    "# Two Processes with an OutPort each\n",
    "class P1(AbstractProcess):\n",
    "    def __init__(self, **kwargs):\n",
    "        super().__init__(**kwargs)\n",
    "        shape = kwargs.get('shape', (2,))\n",
    "        self.out = OutPort(shape=shape)\n",
    "class P2(AbstractProcess):\n",
    "    def __init__(self, **kwargs):\n",
    "        super().__init__(**kwargs)\n",
    "        shape = kwargs.get('shape', (2,))\n",
    "        self.out = OutPort(shape=shape)\n",
    "      \n",
    "\n",
    "# Process with two InPorts\n",
    "class P3(AbstractProcess):\n",
    "    def __init__(self, **kwargs):\n",
    "        super().__init__(**kwargs)\n",
    "        shape = kwargs.get('shape', (2,))\n",
    "        self.inp1 = InPort(shape=shape)\n",
    "        self.inp2 = InPort(shape=shape)\n"
   ]
  },
  {
   "cell_type": "markdown",
   "id": "ee9d76c0",
   "metadata": {},
   "source": [
    "_Process_ _P1_ and _P2_ require a corresponding _ProcessModel_ which implements their _Ports_ and a simple RunConfig for sending and receiving data.\n",
    "\n",
    "In the _ProcessModels_ Python code should be exectued on a CPU. The input and output _Port_ should be able to receive/send a vector of integers and print the transferred data.\n",
    "\n",
    "So the _ProcessModel_ inherits form _AbstractPyProcessModel_ in order to execute Python code and the configured _ComputeResource_ is a CPU. A _LavaPyType_ is used for the _Ports_. The _LavaPyType_ specifies the expected data format for the _Port_. A dense vector of type integer is chosen with the parameters _PyOutPort.VEC_DENSE_ and _int_. The _Ports_ can be used to send and receive data by calling _send_ or _recv_. The sent and received data is afterwards printed out."
   ]
  },
  {
   "cell_type": "code",
   "execution_count": 164,
   "id": "ec29578e",
   "metadata": {},
   "outputs": [],
   "source": [
    "import numpy as np\n",
    "from lava.magma.core.model.py.model import PyLoihiProcessModel\n",
    "from lava.magma.core.decorator import implements, requires, tag\n",
    "from lava.magma.core.resources import CPU\n",
    "from lava.magma.core.model.py.type import LavaPyType\n",
    "from lava.magma.core.model.py.ports import PyInPort, PyOutPort\n",
    "from lava.magma.core.sync.protocols.loihi_protocol import LoihiProtocol"
   ]
  },
  {
   "cell_type": "code",
   "execution_count": 165,
   "id": "43b6d926",
   "metadata": {},
   "outputs": [],
   "source": [
    "#PyProcModel implementing P1\n",
    "@implements(proc=P1, protocol=LoihiProtocol)\n",
    "@requires(CPU)\n",
    "@tag('floating_pt')\n",
    "class PyProcModelA(PyLoihiProcessModel):\n",
    "    out: PyOutPort = LavaPyType(PyOutPort.VEC_DENSE, int)\n",
    "\n",
    "    def run_spk(self):\n",
    "        data = np.array([1, 2])\n",
    "        print(\"\\nSent output data of P1: {}\".format(data))\n",
    "        self.out.send(data)\n",
    "#PyProcModel implementing P2\n",
    "@implements(proc=P2, protocol=LoihiProtocol)\n",
    "@requires(CPU)\n",
    "@tag('floating_pt')       \n",
    "class PyProcModelB(PyLoihiProcessModel):\n",
    "    out: PyOutPort = LavaPyType(PyOutPort.VEC_DENSE, int)\n",
    "\n",
    "    def run_spk(self):\n",
    "        data = np.array([1, 4])\n",
    "        print(\"\\nSent output data of P2: {}\".format(data))\n",
    "        self.out.send(data)\n",
    "\n",
    "#PyProcModel implementing P3\n",
    "@implements(proc=P3, protocol=LoihiProtocol)\n",
    "@requires(CPU)\n",
    "@tag('floating_pt')\n",
    "class PyProcModelC(PyLoihiProcessModel):\n",
    "    inp1: PyInPort = LavaPyType(PyInPort.VEC_DENSE, int)\n",
    "    inp2: PyInPort = LavaPyType(PyInPort.VEC_DENSE, int)\n",
    "\n",
    "    def run_spk(self):\n",
    "        in_data1 = self.inp1.recv()\n",
    "        in_data2 = self.inp2.recv()\n",
    "        print(\"\\nReceived input data for P1: {}\".format(in_data1))\n",
    "        print(\"Received input data for P2: {}\".format(in_data2))\n",
    "        sum= in_data1+in_data2\n",
    "        print(\"\\nThe addition of both vectors results in: {}\".format(sum))\n"
   ]
  },
  {
   "cell_type": "markdown",
   "id": "c09ee26f",
   "metadata": {},
   "source": [
    "Next the processes _P1_ and _P2_ are instantiated and the output _Port_ _out_ from _Process_ _P1_ is connected with the input _Port_ _inp_ of _Process_ _P2_."
   ]
  },
  {
   "cell_type": "code",
   "execution_count": 166,
   "id": "eb262e6f",
   "metadata": {},
   "outputs": [],
   "source": [
    "sender1 = P1()\n",
    "sender2 = P2()\n",
    "recv1 = P3()\n",
    "\n",
    "# Connecting each output port to each input port\n",
    "sender1.out.connect(recv1.inp1)\n",
    "sender2.out.connect(recv1.inp2)\n"
   ]
  },
  {
   "cell_type": "markdown",
   "id": "f79c050b",
   "metadata": {},
   "source": [
    "Calling `run()` on either of these _Processes_ will first call the _Compiler_. During compilation the specified connection is setup by creating a channel between _P1_ and _P2_. Now data can be transfered during execution as seen by the output print statements."
   ]
  },
  {
   "cell_type": "code",
   "execution_count": 167,
   "id": "63a574d0",
   "metadata": {},
   "outputs": [],
   "source": [
    "from lava.magma.core.run_configs import Loihi1SimCfg\n",
    "from lava.magma.core.run_conditions import RunSteps"
   ]
  },
  {
   "cell_type": "code",
   "execution_count": 168,
   "id": "8dd8e84b",
   "metadata": {
    "scrolled": true
   },
   "outputs": [
    {
     "name": "stdout",
     "output_type": "stream",
     "text": [
      "\n",
      "Sent output data of P1: [1 2]\n",
      "Sent output data of P2: [1 4]\n",
      "\n",
      "\n",
      "Received input data for P1: [1 2]\n",
      "Received input data for P2: [1 4]\n",
      "\n",
      "The addition of both vectors results in: [2 6]\n"
     ]
    }
   ],
   "source": [
    "sender1.run(RunSteps(num_steps=1), Loihi1SimCfg())\n",
    "sender1.stop()"
   ]
  },
  {
   "cell_type": "markdown",
   "id": "97782fd6",
   "metadata": {},
   "source": [
    "The instance `sender` of P1 sent the data `[1 2]` via its _OutPort_ `out` to the _InPort_ `in` of the instance `recv` of P2, where the data is received."
   ]
  },
  {
   "cell_type": "markdown",
   "id": "99862b30",
   "metadata": {},
   "source": [
    "## Possible connections\n",
    "This first example was very simple. In principle, _Processes_ can have multiple input and output _Ports_ which can be freely connected with each other. Also, _Processes_ which execute on different compute resources can be connected in the same way.\n",
    "\n",
    "<img src=\"https://raw.githubusercontent.com/lava-nc/lava-nc.github.io/main/_static/images/tutorial06/fig02.png\" width=\"400\"  />\n",
    "\n",
    "#### There are some things to consider though:\n",
    "- _InPorts_ cannot connect to _OutPorts_\n",
    "- Shape and datatype of connect _Ports_ must match\n",
    "- An _InPort_ might get data from multiple _OutPorts_ - default behavior is a summation of the incoming data\n",
    "- An _OutPort_ might send data to multiple _InPorts_ - all _InPorts_ receive the same data\n"
   ]
  },
  {
   "cell_type": "markdown",
   "id": "06d61828",
   "metadata": {},
   "source": [
    "## Connect multiple _InPorts_ from a single _OutPort_\n",
    "\n",
    "<img src=\"https://raw.githubusercontent.com/lava-nc/lava-nc.github.io/main/_static/images/tutorial06/fig04.png\" width=\"400\"  />"
   ]
  },
  {
   "cell_type": "code",
   "execution_count": 169,
   "id": "5db9ec78",
   "metadata": {},
   "outputs": [
    {
     "ename": "AttributeError",
     "evalue": "'P2' object has no attribute 'inp'",
     "output_type": "error",
     "traceback": [
      "\u001b[0;31m---------------------------------------------------------------------------\u001b[0m",
      "\u001b[0;31mAttributeError\u001b[0m                            Traceback (most recent call last)",
      "\u001b[1;32m/home/mariano/lava/tutorials/in_depth/00_sum.ipynb Cell 16'\u001b[0m in \u001b[0;36m<cell line: 8>\u001b[0;34m()\u001b[0m\n\u001b[1;32m      <a href='vscode-notebook-cell:/home/mariano/lava/tutorials/in_depth/00_sum.ipynb#ch0000015?line=3'>4</a>\u001b[0m recv3 \u001b[39m=\u001b[39m P2()\n\u001b[1;32m      <a href='vscode-notebook-cell:/home/mariano/lava/tutorials/in_depth/00_sum.ipynb#ch0000015?line=5'>6</a>\u001b[0m \u001b[39m# An OutPort can connect to multiple InPorts\u001b[39;00m\n\u001b[1;32m      <a href='vscode-notebook-cell:/home/mariano/lava/tutorials/in_depth/00_sum.ipynb#ch0000015?line=6'>7</a>\u001b[0m \u001b[39m# Either at once...\u001b[39;00m\n\u001b[0;32m----> <a href='vscode-notebook-cell:/home/mariano/lava/tutorials/in_depth/00_sum.ipynb#ch0000015?line=7'>8</a>\u001b[0m sender\u001b[39m.\u001b[39mout\u001b[39m.\u001b[39mconnect([recv1\u001b[39m.\u001b[39;49minp, recv2\u001b[39m.\u001b[39minp, recv3\u001b[39m.\u001b[39minp])\n\u001b[1;32m     <a href='vscode-notebook-cell:/home/mariano/lava/tutorials/in_depth/00_sum.ipynb#ch0000015?line=9'>10</a>\u001b[0m sender \u001b[39m=\u001b[39m P1()\n\u001b[1;32m     <a href='vscode-notebook-cell:/home/mariano/lava/tutorials/in_depth/00_sum.ipynb#ch0000015?line=10'>11</a>\u001b[0m recv1 \u001b[39m=\u001b[39m P2()\n",
      "\u001b[0;31mAttributeError\u001b[0m: 'P2' object has no attribute 'inp'"
     ]
    }
   ],
   "source": [
    "sender = P1()\n",
    "recv1 = P2()\n",
    "recv2 = P2()\n",
    "recv3 = P2()\n",
    "\n",
    "# An OutPort can connect to multiple InPorts\n",
    "# Either at once...\n",
    "sender.out.connect([recv1.inp, recv2.inp, recv3.inp])\n",
    "\n",
    "sender = P1()\n",
    "recv1 = P2()\n",
    "recv2 = P2()\n",
    "recv3 = P2()\n",
    "\n",
    "# ... or consecutively\n",
    "sender.out.connect(recv1.inp)\n",
    "sender.out.connect(recv2.inp)\n",
    "sender.out.connect(recv3.inp)"
   ]
  },
  {
   "cell_type": "code",
   "execution_count": null,
   "id": "aa2c8d73",
   "metadata": {},
   "outputs": [
    {
     "name": "stdout",
     "output_type": "stream",
     "text": [
      "Sent output data of P1: [1 2]\n",
      "Received input data for P2: [2 4]Received input data for P2: [2 4]Received input data for P2: [2 4]\n",
      "\n",
      "\n"
     ]
    }
   ],
   "source": [
    "sender.run(RunSteps(num_steps=1), Loihi1SimCfg())\n",
    "sender.stop()"
   ]
  },
  {
   "cell_type": "markdown",
   "id": "90e21333",
   "metadata": {},
   "source": [
    "The instance `sender` of P1 sent the data `[1 2]` to the 3 instances `recv1, recv2, recv3` of P2."
   ]
  },
  {
   "cell_type": "markdown",
   "id": "8ec8da8e",
   "metadata": {},
   "source": [
    "## Connecting multiple _InPorts_ to a single _OutPort_\n",
    "\n",
    "If multiple input _Ports_ connect to the same output _Port_ the default behavior is that the data from each input _Port_ is added up at the output _Port_.\n",
    "\n",
    "<img src=\"https://raw.githubusercontent.com/lava-nc/lava-nc.github.io/main/_static/images/tutorial06/fig05.png\" width=\"400\"  />"
   ]
  },
  {
   "cell_type": "code",
   "execution_count": null,
   "id": "bda5d058",
   "metadata": {},
   "outputs": [],
   "source": [
    "sender1 = P1()\n",
    "sender2 = P1()\n",
    "sender3 = P1()\n",
    "recv = P2()\n",
    "\n",
    "# An InPort can connect to multiple OutPorts\n",
    "# Either at once...\n",
    "recv.inp.connect_from([sender1.out, sender2.out, sender3.out])\n",
    "\n",
    "sender1 = P1()\n",
    "sender2 = P1()\n",
    "sender3 = P1()\n",
    "recv = P2()\n",
    "\n",
    "# ... or consecutively\n",
    "sender1.out.connect(recv.inp)\n",
    "sender2.out.connect(recv.inp)\n",
    "sender3.out.connect(recv.inp)"
   ]
  },
  {
   "cell_type": "code",
   "execution_count": null,
   "id": "baccbaa5",
   "metadata": {},
   "outputs": [
    {
     "name": "stdout",
     "output_type": "stream",
     "text": [
      "Sent output data of P1: [1 2]Sent output data of P1: [1 2]Sent output data of P1: [1 2]\n",
      "\n",
      "\n",
      "Received input data for P2: [ 6 12]\n"
     ]
    }
   ],
   "source": [
    "sender1.run(RunSteps(num_steps=1), Loihi1SimCfg())\n",
    "sender1.stop()"
   ]
  },
  {
   "cell_type": "markdown",
   "id": "19024b0a",
   "metadata": {},
   "source": [
    "The 3 instances `sender1, sender2, sender3` of P1 sent the data `[1 2]` to the instance `recv` of P2, where the data was summed up to `[3 6]`."
   ]
  },
  {
   "cell_type": "markdown",
   "id": "a4597ef0",
   "metadata": {},
   "source": [
    "## How to learn more?\n",
    "\n",
    "Learn how to implement and compose the behavior of a process using other processes the [next tutorial on hierarchical Processes](./tutorial06_hierarchical_processes.ipynb \"Tutorial on Hierarchical Processes\").\n",
    "\n",
    "If you want to find out more about connecting processes, have a look at the [Lava documentation](https://lava-nc.org/ \"Lava Documentation\") or dive into the [source code](https://github.com/lava-nc/lava/tree/main/src/lava/magma/core/process/ports/ports.py \"Port Source Code\").\n",
    "\n",
    "To receive regular updates on the latest developments and releases of the Lava Software Framework please subscribe to the [INRC newsletter](http://eepurl.com/hJCyhb \"INRC Newsletter\")."
   ]
  }
 ],
 "metadata": {
  "interpreter": {
   "hash": "c176acc32fa0fd1875fb43a5787ae1fa2f2a5f96932d55fc5c8857aaa134fec0"
  },
  "kernelspec": {
   "display_name": "local-venv",
   "language": "python",
   "name": "python3"
  },
  "language_info": {
   "codemirror_mode": {
    "name": "ipython",
    "version": 3
   },
   "file_extension": ".py",
   "mimetype": "text/x-python",
   "name": "python",
   "nbconvert_exporter": "python",
   "pygments_lexer": "ipython3",
   "version": "3.8.10"
  }
 },
 "nbformat": 4,
 "nbformat_minor": 5
}
